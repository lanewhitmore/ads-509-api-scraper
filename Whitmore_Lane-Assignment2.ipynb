{
 "cells": [
  {
   "attachments": {},
   "cell_type": "markdown",
   "id": "7f79baf9",
   "metadata": {},
   "source": [
    "# ADS 509 Assignment 2.1: Tokenization, Normalization, Descriptive Statistics \n",
    "\n",
    "This notebook holds Assignment 2.1 for Module 2 in ADS 509, Applied Text Mining. Work through this notebook, writing code and answering questions where required. \n",
    "\n",
    "In the previous assignment you put together Twitter data and lyrics data on two artists. In this assignment we explore some of the textual features of those data sets. If, for some reason, you did not complete that previous assignment, data to use for this assignment can be found in the assignment materials section of Blackboard. \n",
    "\n",
    "This assignment asks you to write a short function to calculate some descriptive statistics on a piece of text. Then you are asked to find some interesting and unique statistics on your corpora. \n"
   ]
  },
  {
   "cell_type": "code",
   "execution_count": 1,
   "id": "e2d096b7",
   "metadata": {},
   "outputs": [
    {
     "name": "stderr",
     "output_type": "stream",
     "text": [
      "[nltk_data] Downloading package stopwords to\n",
      "[nltk_data]     C:\\Users\\whitm\\AppData\\Roaming\\nltk_data...\n",
      "[nltk_data]   Package stopwords is already up-to-date!\n"
     ]
    }
   ],
   "source": [
    "import os\n",
    "import re\n",
    "import emoji\n",
    "import pandas as pd\n",
    "import numpy as np\n",
    "\n",
    "from collections import Counter, defaultdict\n",
    "import nltk\n",
    "nltk.download(\"stopwords\")\n",
    "from nltk.corpus import stopwords\n",
    "from string import punctuation\n",
    "\n",
    "sw = stopwords.words(\"english\")"
   ]
  },
  {
   "cell_type": "code",
   "execution_count": 2,
   "id": "6b555ab2",
   "metadata": {},
   "outputs": [],
   "source": [
    "# Add any additional import statements you need here\n",
    "from matplotlib import pyplot as plt\n"
   ]
  },
  {
   "cell_type": "code",
   "execution_count": 3,
   "id": "923b5a86",
   "metadata": {},
   "outputs": [],
   "source": [
    "# change `data_location` to the location of the folder on your machine.\n",
    "data_location = \"/users/whitm/OneDrive/Desktop/ADS509/M1_Assignment_Data/M1_Results/\"\n",
    "\n",
    "# These subfolders should still work if you correctly stored the \n",
    "# data from the Module 1 assignment\n",
    "twitter_folder = \"twitter/\"\n",
    "lyrics_folder = \"lyrics/\""
   ]
  },
  {
   "cell_type": "code",
   "execution_count": 4,
   "id": "06522af9",
   "metadata": {},
   "outputs": [],
   "source": [
    "def descriptive_stats(tokens, num_tokens = 5, verbose=True) :\n",
    "    \"\"\"\n",
    "        Given a list of tokens, print number of tokens, number of unique tokens, \n",
    "        number of characters, lexical diversity (https://en.wikipedia.org/wiki/Lexical_diversity), \n",
    "        and num_tokens most common tokens. Return a list with the number of tokens, number\n",
    "        of unique tokens, lexical diversity, and number of characters. \n",
    "    \n",
    "    \"\"\"\n",
    "\n",
    "    # Fill in the correct values here. \n",
    "    num_tokens = len(tokens)\n",
    "    num_unique_tokens = len(set(tokens))\n",
    "    lexical_diversity = len(set(tokens)) / len(tokens)\n",
    "    num_characters = 0\n",
    "\n",
    "    # character count\n",
    "    for i in tokens:\n",
    "        for c in i:\n",
    "            num_characters += 1\n",
    "\n",
    "    common = Counter(tokens).most_common(5)\n",
    "\n",
    "    \n",
    "    if verbose :        \n",
    "        print(f\"There are {num_tokens} tokens in the data.\")\n",
    "        print(f\"There are {num_unique_tokens} unique tokens in the data.\")\n",
    "        print(f\"There are {num_characters} characters in the data.\")\n",
    "        print(f\"The lexical diversity is {lexical_diversity:.3f} in the data.\")\n",
    "    \n",
    "        # print the five most common tokens\n",
    "        print(f\"The five most common words {common} in the data.\")\n",
    "        \n",
    "    return([num_tokens, num_unique_tokens,\n",
    "            lexical_diversity,\n",
    "            num_characters, common])\n",
    "    "
   ]
  },
  {
   "cell_type": "code",
   "execution_count": 5,
   "id": "59dcf058",
   "metadata": {},
   "outputs": [
    {
     "name": "stdout",
     "output_type": "stream",
     "text": [
      "There are 13 tokens in the data.\n",
      "There are 9 unique tokens in the data.\n",
      "There are 55 characters in the data.\n",
      "The lexical diversity is 0.692 in the data.\n",
      "The five most common words [('text', 3), ('here', 2), ('example', 2), ('is', 1), ('some', 1)] in the data.\n"
     ]
    }
   ],
   "source": [
    "text = \"\"\"here is some example text with other example text here in this text\"\"\".split()\n",
    "assert(descriptive_stats(text, verbose=True)[0] == 13)\n",
    "assert(descriptive_stats(text, verbose=False)[1] == 9)\n",
    "assert(abs(descriptive_stats(text, verbose=False)[2] - 0.69) < 0.02)\n",
    "assert(descriptive_stats(text, verbose=False)[3] == 55)\n"
   ]
  },
  {
   "attachments": {},
   "cell_type": "markdown",
   "id": "d2e7e1a2",
   "metadata": {},
   "source": [
    "Q: Why is it beneficial to use assertion statements in your code? \n",
    "\n",
    "A: Assertion can be very useful to check how your functions are working within your code. It can also be used to validate calculations being made. This can be very helpful when debugging complicated functions. Especially given that assert statements are relatively inexpensive to implement computationally. "
   ]
  },
  {
   "attachments": {},
   "cell_type": "markdown",
   "id": "9d3bf93e",
   "metadata": {},
   "source": [
    "## Data Input\n",
    "\n",
    "Now read in each of the corpora. For the lyrics data, it may be convenient to store the entire contents of the file to make it easier to inspect the titles individually, as you'll do in the last part of the assignment. In the solution, I stored the lyrics data in a dictionary with two dimensions of keys: artist and song. The value was the file contents. A data frame would work equally well. \n",
    "\n",
    "For the Twitter data, we only need the description field for this assignment. Feel free all the descriptions read it into a data structure. In the solution, I stored the descriptions as a dictionary of lists, with the key being the artist. \n",
    "\n",
    "\n"
   ]
  },
  {
   "cell_type": "code",
   "execution_count": 6,
   "id": "37d70801",
   "metadata": {},
   "outputs": [
    {
     "data": {
      "text/html": [
       "<div>\n",
       "<style scoped>\n",
       "    .dataframe tbody tr th:only-of-type {\n",
       "        vertical-align: middle;\n",
       "    }\n",
       "\n",
       "    .dataframe tbody tr th {\n",
       "        vertical-align: top;\n",
       "    }\n",
       "\n",
       "    .dataframe thead th {\n",
       "        text-align: right;\n",
       "    }\n",
       "</style>\n",
       "<table border=\"1\" class=\"dataframe\">\n",
       "  <thead>\n",
       "    <tr style=\"text-align: right;\">\n",
       "      <th></th>\n",
       "      <th>artist</th>\n",
       "      <th>lyrics</th>\n",
       "    </tr>\n",
       "  </thead>\n",
       "  <tbody>\n",
       "    <tr>\n",
       "      <th>0</th>\n",
       "      <td>Robyn</td>\n",
       "      <td>\"88 Days\"\\n\\n\\n\\nI light a candle in the morni...</td>\n",
       "    </tr>\n",
       "    <tr>\n",
       "      <th>1</th>\n",
       "      <td>Robyn</td>\n",
       "      <td>\"Ain't No Thing\"\\n\\n\\n\\n[Verse 1:]\\nBoy you go...</td>\n",
       "    </tr>\n",
       "    <tr>\n",
       "      <th>2</th>\n",
       "      <td>Robyn</td>\n",
       "      <td>\"Anytime You Like\"\\n\\n\\n\\nIt's like you're wai...</td>\n",
       "    </tr>\n",
       "    <tr>\n",
       "      <th>3</th>\n",
       "      <td>Robyn</td>\n",
       "      <td>\"Baby Forgive Me\"\\n\\n\\n\\nHere come the night\\n...</td>\n",
       "    </tr>\n",
       "    <tr>\n",
       "      <th>4</th>\n",
       "      <td>Robyn</td>\n",
       "      <td>\"Beach 2K20\"\\n\\n\\n\\n(So you wanna go out?\\nHow...</td>\n",
       "    </tr>\n",
       "    <tr>\n",
       "      <th>...</th>\n",
       "      <td>...</td>\n",
       "      <td>...</td>\n",
       "    </tr>\n",
       "    <tr>\n",
       "      <th>410</th>\n",
       "      <td>Cher</td>\n",
       "      <td>\"You Better Sit Down Kids\"\\n\\n\\n\\nBetter sit d...</td>\n",
       "    </tr>\n",
       "    <tr>\n",
       "      <th>411</th>\n",
       "      <td>Cher</td>\n",
       "      <td>\"You Don't Have To Say You Love Me\"\\n\\n\\n\\nWhe...</td>\n",
       "    </tr>\n",
       "    <tr>\n",
       "      <th>412</th>\n",
       "      <td>Cher</td>\n",
       "      <td>\"You Haven't Seen The Last Of Me\"\\n\\n\\n\\nFeeli...</td>\n",
       "    </tr>\n",
       "    <tr>\n",
       "      <th>413</th>\n",
       "      <td>Cher</td>\n",
       "      <td>\"You Know It\"\\n\\n\\n\\nYou're the kinda of girl\\...</td>\n",
       "    </tr>\n",
       "    <tr>\n",
       "      <th>414</th>\n",
       "      <td>Cher</td>\n",
       "      <td>\"Young And Pretty\"\\n\\n\\n\\nCome from the suburb...</td>\n",
       "    </tr>\n",
       "  </tbody>\n",
       "</table>\n",
       "<p>415 rows × 2 columns</p>\n",
       "</div>"
      ],
      "text/plain": [
       "    artist                                             lyrics\n",
       "0    Robyn  \"88 Days\"\\n\\n\\n\\nI light a candle in the morni...\n",
       "1    Robyn  \"Ain't No Thing\"\\n\\n\\n\\n[Verse 1:]\\nBoy you go...\n",
       "2    Robyn  \"Anytime You Like\"\\n\\n\\n\\nIt's like you're wai...\n",
       "3    Robyn  \"Baby Forgive Me\"\\n\\n\\n\\nHere come the night\\n...\n",
       "4    Robyn  \"Beach 2K20\"\\n\\n\\n\\n(So you wanna go out?\\nHow...\n",
       "..     ...                                                ...\n",
       "410   Cher  \"You Better Sit Down Kids\"\\n\\n\\n\\nBetter sit d...\n",
       "411   Cher  \"You Don't Have To Say You Love Me\"\\n\\n\\n\\nWhe...\n",
       "412   Cher  \"You Haven't Seen The Last Of Me\"\\n\\n\\n\\nFeeli...\n",
       "413   Cher  \"You Know It\"\\n\\n\\n\\nYou're the kinda of girl\\...\n",
       "414   Cher  \"Young And Pretty\"\\n\\n\\n\\nCome from the suburb...\n",
       "\n",
       "[415 rows x 2 columns]"
      ]
     },
     "execution_count": 6,
     "metadata": {},
     "output_type": "execute_result"
    }
   ],
   "source": [
    "# Read in the lyrics data\n",
    "artists = ['robyn','cher']\n",
    "\n",
    "# List for lyrics and titles\n",
    "r_lyrics = []\n",
    "c_lyrics = []\n",
    "\n",
    "# lists for artists names\n",
    "r = []\n",
    "c = []\n",
    "for a in artists:\n",
    "    for file in os.listdir(f'{data_location}{lyrics_folder}'+a+'/'):\n",
    "        if file.endswith('.txt'):\n",
    "            with open(f'{data_location}{lyrics_folder}'+a+'/'+file,'r') as data:\n",
    "                if a == 'robyn':\n",
    "                    r_lyrics.append(data.read())\n",
    "                    r.append('Robyn')\n",
    "                else:\n",
    "                    c_lyrics.append(data.read())\n",
    "                    c.append('Cher')\n",
    "        else:\n",
    "            print(\"Error File Not Text\")\n",
    "\n",
    "lyrics = pd.DataFrame({\"artist\": r+c, \"lyrics\": r_lyrics+c_lyrics})\n",
    "lyrics.head(-5)"
   ]
  },
  {
   "cell_type": "code",
   "execution_count": 7,
   "id": "4a522925",
   "metadata": {},
   "outputs": [],
   "source": [
    "# Doing a little prep work to make the normalization/transformation a little easier\n",
    "titles = []\n",
    "li_lyrics = []\n",
    "for i in lyrics['lyrics']:\n",
    "    # splitting lyrics from titles\n",
    "    x, y = i.split('\\n\\n\\n\\n')\n",
    "    # appending titles and lyrics for placement in a dataframe\n",
    "    titles.append(x.replace('\"', ''))\n",
    "    li_lyrics.append(y.replace('\\n',' '))\n",
    "\n",
    "# putting new lyrics and titles columns into dataframe\n",
    "lyrics['lyrics'] = li_lyrics\n",
    "lyrics['titles'] = titles"
   ]
  },
  {
   "cell_type": "code",
   "execution_count": 8,
   "id": "a208e4d1",
   "metadata": {},
   "outputs": [
    {
     "data": {
      "text/html": [
       "<div>\n",
       "<style scoped>\n",
       "    .dataframe tbody tr th:only-of-type {\n",
       "        vertical-align: middle;\n",
       "    }\n",
       "\n",
       "    .dataframe tbody tr th {\n",
       "        vertical-align: top;\n",
       "    }\n",
       "\n",
       "    .dataframe thead th {\n",
       "        text-align: right;\n",
       "    }\n",
       "</style>\n",
       "<table border=\"1\" class=\"dataframe\">\n",
       "  <thead>\n",
       "    <tr style=\"text-align: right;\">\n",
       "      <th></th>\n",
       "      <th>artist</th>\n",
       "      <th>lyrics</th>\n",
       "      <th>titles</th>\n",
       "    </tr>\n",
       "  </thead>\n",
       "  <tbody>\n",
       "    <tr>\n",
       "      <th>0</th>\n",
       "      <td>Robyn</td>\n",
       "      <td>I light a candle in the morning  To signify th...</td>\n",
       "      <td>88 Days</td>\n",
       "    </tr>\n",
       "    <tr>\n",
       "      <th>1</th>\n",
       "      <td>Robyn</td>\n",
       "      <td>[Verse 1:] Boy you gotta want me, really reall...</td>\n",
       "      <td>Ain't No Thing</td>\n",
       "    </tr>\n",
       "    <tr>\n",
       "      <th>2</th>\n",
       "      <td>Robyn</td>\n",
       "      <td>It's like you're waiting for me to start There...</td>\n",
       "      <td>Anytime You Like</td>\n",
       "    </tr>\n",
       "    <tr>\n",
       "      <th>3</th>\n",
       "      <td>Robyn</td>\n",
       "      <td>Here come the night In your eyes Baby, be brav...</td>\n",
       "      <td>Baby Forgive Me</td>\n",
       "    </tr>\n",
       "    <tr>\n",
       "      <th>4</th>\n",
       "      <td>Robyn</td>\n",
       "      <td>(So you wanna go out? How you gonna get there?...</td>\n",
       "      <td>Beach 2K20</td>\n",
       "    </tr>\n",
       "    <tr>\n",
       "      <th>...</th>\n",
       "      <td>...</td>\n",
       "      <td>...</td>\n",
       "      <td>...</td>\n",
       "    </tr>\n",
       "    <tr>\n",
       "      <th>410</th>\n",
       "      <td>Cher</td>\n",
       "      <td>Better sit down kids I'll tell you why, kids Y...</td>\n",
       "      <td>You Better Sit Down Kids</td>\n",
       "    </tr>\n",
       "    <tr>\n",
       "      <th>411</th>\n",
       "      <td>Cher</td>\n",
       "      <td>When I said I needed you You said you would al...</td>\n",
       "      <td>You Don't Have To Say You Love Me</td>\n",
       "    </tr>\n",
       "    <tr>\n",
       "      <th>412</th>\n",
       "      <td>Cher</td>\n",
       "      <td>Feeling broken Barely holding on But there's j...</td>\n",
       "      <td>You Haven't Seen The Last Of Me</td>\n",
       "    </tr>\n",
       "    <tr>\n",
       "      <th>413</th>\n",
       "      <td>Cher</td>\n",
       "      <td>You're the kinda of girl You can't get next to...</td>\n",
       "      <td>You Know It</td>\n",
       "    </tr>\n",
       "    <tr>\n",
       "      <th>414</th>\n",
       "      <td>Cher</td>\n",
       "      <td>Come from the suburbs into the city  They say ...</td>\n",
       "      <td>Young And Pretty</td>\n",
       "    </tr>\n",
       "  </tbody>\n",
       "</table>\n",
       "<p>415 rows × 3 columns</p>\n",
       "</div>"
      ],
      "text/plain": [
       "    artist                                             lyrics  \\\n",
       "0    Robyn  I light a candle in the morning  To signify th...   \n",
       "1    Robyn  [Verse 1:] Boy you gotta want me, really reall...   \n",
       "2    Robyn  It's like you're waiting for me to start There...   \n",
       "3    Robyn  Here come the night In your eyes Baby, be brav...   \n",
       "4    Robyn  (So you wanna go out? How you gonna get there?...   \n",
       "..     ...                                                ...   \n",
       "410   Cher  Better sit down kids I'll tell you why, kids Y...   \n",
       "411   Cher  When I said I needed you You said you would al...   \n",
       "412   Cher  Feeling broken Barely holding on But there's j...   \n",
       "413   Cher  You're the kinda of girl You can't get next to...   \n",
       "414   Cher  Come from the suburbs into the city  They say ...   \n",
       "\n",
       "                                titles  \n",
       "0                              88 Days  \n",
       "1                       Ain't No Thing  \n",
       "2                     Anytime You Like  \n",
       "3                      Baby Forgive Me  \n",
       "4                           Beach 2K20  \n",
       "..                                 ...  \n",
       "410           You Better Sit Down Kids  \n",
       "411  You Don't Have To Say You Love Me  \n",
       "412    You Haven't Seen The Last Of Me  \n",
       "413                        You Know It  \n",
       "414                   Young And Pretty  \n",
       "\n",
       "[415 rows x 3 columns]"
      ]
     },
     "execution_count": 8,
     "metadata": {},
     "output_type": "execute_result"
    }
   ],
   "source": [
    "lyrics.head(-5)"
   ]
  },
  {
   "cell_type": "code",
   "execution_count": 9,
   "id": "debcac5a",
   "metadata": {},
   "outputs": [
    {
     "name": "stderr",
     "output_type": "stream",
     "text": [
      "c:\\Users\\whitm\\anaconda3\\lib\\site-packages\\IPython\\core\\interactiveshell.py:3444: FutureWarning: The warn_bad_lines argument has been deprecated and will be removed in a future version.\n",
      "\n",
      "\n",
      "  exec(code_obj, self.user_global_ns, self.user_ns)\n",
      "c:\\Users\\whitm\\anaconda3\\lib\\site-packages\\IPython\\core\\interactiveshell.py:3444: FutureWarning: The error_bad_lines argument has been deprecated and will be removed in a future version.\n",
      "\n",
      "\n",
      "  exec(code_obj, self.user_global_ns, self.user_ns)\n"
     ]
    }
   ],
   "source": [
    "# Read in the twitter data\n",
    "# dictionary for twitter descriptions\n",
    "twitter_desc = defaultdict(list)\n",
    "\n",
    "# list\n",
    "r_desc = []\n",
    "c_desc = []\n",
    "\n",
    "# loop through the artist list robyn, cher\n",
    "for a in artists:\n",
    "\n",
    "    # reading the files as a csv skipping the bad lines in the cher file and dropping the null values\n",
    "    df = pd.read_csv(f\"{data_location}{twitter_folder}\"+a+\"_followers_data.txt\", sep=\"\\t\", error_bad_lines=False, warn_bad_lines=False)['description'].dropna()\n",
    "    for i in list(df):\n",
    "        # looping through the dataframe to save as a list for the dictionary\n",
    "        if a == 'robyn':\n",
    "            r_desc.append(i)\n",
    "        else:\n",
    "            c_desc.append(i)\n",
    "        \n",
    "twitter_desc['robyn'] = r_desc\n",
    "twitter_desc['cher'] = c_desc\n",
    "        "
   ]
  },
  {
   "cell_type": "code",
   "execution_count": 10,
   "id": "51b0ee8c",
   "metadata": {},
   "outputs": [
    {
     "name": "stdout",
     "output_type": "stream",
     "text": [
      "['I love chill •Facebook / Instagram / SoundCloud: AngelxoArts• https://t.co/447okKLKzA…', \"books, movies, music, nature & TV shows. OG Sweetee since '12 thanks to YouTube recommending 'This Feeling' on my homepage ♥️\"]\n",
      "['𝙿𝚛𝚘𝚞𝚍 𝚜𝚞𝚙𝚙𝚘𝚛𝚝𝚎𝚛 𝚘𝚏 𝚖𝚎𝚜𝚜𝚢 𝚋𝚞𝚗𝚜 & 𝚕𝚎𝚐𝚐𝚒𝚗𝚐𝚜', '163㎝／愛かっぷ💜26歳🍒 工〇好きな女の子💓 フォローしてくれたらDMします🧡']\n"
     ]
    }
   ],
   "source": [
    "# Example of dictionary\n",
    "print(twitter_desc['robyn'][0:2])\n",
    "print(twitter_desc['cher'][0:2])"
   ]
  },
  {
   "attachments": {},
   "cell_type": "markdown",
   "id": "6a5f3b12",
   "metadata": {},
   "source": [
    "## Data Cleaning\n",
    "\n",
    "Now clean and tokenize your data. Remove punctuation characters (available in the `punctuation` object in the `string` library), split on whitespace, fold to lowercase, and remove stopwords. Store your cleaned data, which must be accessible as an interable for `descriptive_stats`, in new objects or in new columns in your data frame. \n",
    "\n"
   ]
  },
  {
   "cell_type": "code",
   "execution_count": 11,
   "id": "71c73d86",
   "metadata": {},
   "outputs": [],
   "source": [
    "# not needed when using the translate method in python\n",
    "#punctuation = set(punctuation) # speeds up comparison"
   ]
  },
  {
   "cell_type": "code",
   "execution_count": 12,
   "id": "c645acf2",
   "metadata": {},
   "outputs": [],
   "source": [
    "# adding in some extra stopwords that were prevalent\n",
    "extra_sw = [\"i'm\", \"och\", \"im\", \"de\"]\n",
    "for i in extra_sw:\n",
    "    sw.append(i)"
   ]
  },
  {
   "attachments": {},
   "cell_type": "markdown",
   "id": "1587b318",
   "metadata": {},
   "source": [
    "#### Twitter Description Local Storage"
   ]
  },
  {
   "cell_type": "code",
   "execution_count": 13,
   "id": "b327033a",
   "metadata": {},
   "outputs": [],
   "source": [
    "# create your clean twitter data here\n",
    "# storing each description in a single string and a large string to store those\n",
    "clean_r = []\n",
    "clean_c = []\n",
    "# dict to store cleaned descriptions\n",
    "clean_desc = defaultdict(list)\n",
    "\n",
    "# for storing descriptions as one long string\n",
    "r_words = []\n",
    "c_words = []\n",
    "\n",
    "\n",
    "# loop through keys for artist\n",
    "for k in twitter_desc:\n",
    "    # storing the split and casefolded strings for each artist temporarily\n",
    "    splitt = []\n",
    "    # loop through each value for each key\n",
    "    for v in twitter_desc[k]:\n",
    "        # append list with split, nonpunctuated, & casefolded values\n",
    "        splitt.append(v.casefold().split())  \n",
    "    # loop through split list for each artist \n",
    "    for i in splitt:\n",
    "        # temporary storage for split data that has stop words removed. Remade for each description to ensure they are stored as a single list\n",
    "        tmp = [] \n",
    "        # loop through each split word\n",
    "        for w in i:\n",
    "            # compare each word to stop word set\n",
    "            if w not in sw:\n",
    "                # append each word to temp list for each description\n",
    "                tmp.append(w.translate(str.maketrans('', '', punctuation)))\n",
    "                if k == 'robyn':\n",
    "                    r_words.append(w.translate(str.maketrans('', '', punctuation)))\n",
    "                else:\n",
    "                    c_words.append(w.translate(str.maketrans('', '', punctuation)))\n",
    "        # appending the short lists to the list clean\n",
    "        if k == 'robyn':\n",
    "            clean_r.append(tmp)\n",
    "        else:\n",
    "            clean_c.append(tmp)\n",
    "\n",
    "\n",
    "       "
   ]
  },
  {
   "cell_type": "code",
   "execution_count": 14,
   "id": "bd1471a5",
   "metadata": {},
   "outputs": [],
   "source": [
    "# storing descriptions in \"clean\" dictionary\n",
    "clean_desc['robyn'] = clean_r\n",
    "clean_desc['cher'] = clean_c"
   ]
  },
  {
   "cell_type": "code",
   "execution_count": 15,
   "id": "4498a732",
   "metadata": {},
   "outputs": [
    {
     "data": {
      "text/plain": [
       "'love'"
      ]
     },
     "execution_count": 15,
     "metadata": {},
     "output_type": "execute_result"
    }
   ],
   "source": [
    "rwords = [x for x in r_words if x !='']\n",
    "cwords = [x for x in c_words if x !='']\n",
    "rwords[0]"
   ]
  },
  {
   "cell_type": "code",
   "execution_count": 16,
   "id": "bcb3045d",
   "metadata": {},
   "outputs": [
    {
     "name": "stdout",
     "output_type": "stream",
     "text": [
      "Length of twitter description before cleaning:  86\n",
      " \n",
      "Length of twitter description after cleaning:  9\n"
     ]
    }
   ],
   "source": [
    "print(\"Length of twitter description before cleaning: \", len(twitter_desc['robyn'][0]))\n",
    "print(\" \")\n",
    "print(\"Length of twitter description after cleaning: \", len(clean_desc['robyn'][0]))"
   ]
  },
  {
   "attachments": {},
   "cell_type": "markdown",
   "id": "8b815c62",
   "metadata": {},
   "source": [
    "#### Lyrics Data Extraction"
   ]
  },
  {
   "cell_type": "code",
   "execution_count": 17,
   "id": "e0f22e10",
   "metadata": {},
   "outputs": [],
   "source": [
    "# create your clean lyrics data here\n",
    "\n",
    "# clean list to add to pd.DataFrame\n",
    "cleaned_lyrics = []\n",
    "df_count = 0\n",
    "cher_lyrics = []\n",
    "robyn_lyrics = []\n",
    "\n",
    "# list to store splits before searching stopwordss\n",
    "splitt = []\n",
    "\n",
    "# loop through lyric values\n",
    "for i in lyrics['lyrics']:\n",
    "    # removing verse counts \n",
    "    i = i.replace('[Verse 1:]', '').replace('[Verse 2:]', '').replace('[Verse 3:]', '').replace('[Verse 4:]', '').replace('[Verse 5:]', '')\n",
    "\n",
    "    # append lyrics without punctuation or capitalization that have also been split\n",
    "    splitt.append(i.casefold().split())\n",
    "\n",
    "# loop through the split lists\n",
    "for i in splitt:\n",
    "    df_count += 1\n",
    "    tmp = []\n",
    "\n",
    "    # loop through the splits lists words\n",
    "    for w in i:\n",
    "        \n",
    "        # keep if not in stopwords set\n",
    "        if w not in sw:\n",
    "                    \n",
    "                    # append to temp storage\n",
    "                    tmp.append(w.translate(str.maketrans('', '', punctuation)))\n",
    "                    \n",
    "                    if lyrics['artist'].loc[df_count-1] == 'Robyn':\n",
    "                        robyn_lyrics.append(w.translate(str.maketrans('', '', punctuation)))\n",
    "                    else:\n",
    "                        cher_lyrics.append(w.translate(str.maketrans('', '', punctuation)))\n",
    "\n",
    "    # append to clean lyrics lists\n",
    "    cleaned_lyrics.append(tmp)\n",
    "\n",
    "lyrics['cleaned_lyrics'] = cleaned_lyrics\n",
    "\n",
    "    "
   ]
  },
  {
   "cell_type": "code",
   "execution_count": 18,
   "id": "06fae621",
   "metadata": {},
   "outputs": [
    {
     "name": "stdout",
     "output_type": "stream",
     "text": [
      "Length of 88 Days by Robyn before cleaning:  1624\n",
      " \n",
      "Length of 88 Days by Robyn after cleaning:  206\n"
     ]
    },
    {
     "data": {
      "text/html": [
       "<div>\n",
       "<style scoped>\n",
       "    .dataframe tbody tr th:only-of-type {\n",
       "        vertical-align: middle;\n",
       "    }\n",
       "\n",
       "    .dataframe tbody tr th {\n",
       "        vertical-align: top;\n",
       "    }\n",
       "\n",
       "    .dataframe thead th {\n",
       "        text-align: right;\n",
       "    }\n",
       "</style>\n",
       "<table border=\"1\" class=\"dataframe\">\n",
       "  <thead>\n",
       "    <tr style=\"text-align: right;\">\n",
       "      <th></th>\n",
       "      <th>artist</th>\n",
       "      <th>lyrics</th>\n",
       "      <th>titles</th>\n",
       "      <th>cleaned_lyrics</th>\n",
       "    </tr>\n",
       "  </thead>\n",
       "  <tbody>\n",
       "    <tr>\n",
       "      <th>0</th>\n",
       "      <td>Robyn</td>\n",
       "      <td>I light a candle in the morning  To signify th...</td>\n",
       "      <td>88 Days</td>\n",
       "      <td>[light, candle, morning, signify, still, mind,...</td>\n",
       "    </tr>\n",
       "    <tr>\n",
       "      <th>1</th>\n",
       "      <td>Robyn</td>\n",
       "      <td>[Verse 1:] Boy you gotta want me, really reall...</td>\n",
       "      <td>Ain't No Thing</td>\n",
       "      <td>[boy, gotta, want, me, really, really, want, b...</td>\n",
       "    </tr>\n",
       "    <tr>\n",
       "      <th>2</th>\n",
       "      <td>Robyn</td>\n",
       "      <td>It's like you're waiting for me to start There...</td>\n",
       "      <td>Anytime You Like</td>\n",
       "      <td>[like, waiting, start, theres, right, moment, ...</td>\n",
       "    </tr>\n",
       "    <tr>\n",
       "      <th>3</th>\n",
       "      <td>Robyn</td>\n",
       "      <td>Here come the night In your eyes Baby, be brav...</td>\n",
       "      <td>Baby Forgive Me</td>\n",
       "      <td>[come, night, eyes, baby, brave, wise, like, m...</td>\n",
       "    </tr>\n",
       "    <tr>\n",
       "      <th>4</th>\n",
       "      <td>Robyn</td>\n",
       "      <td>(So you wanna go out? How you gonna get there?...</td>\n",
       "      <td>Beach 2K20</td>\n",
       "      <td>[so, wanna, go, out, gonna, get, there, ok, ca...</td>\n",
       "    </tr>\n",
       "  </tbody>\n",
       "</table>\n",
       "</div>"
      ],
      "text/plain": [
       "  artist                                             lyrics            titles  \\\n",
       "0  Robyn  I light a candle in the morning  To signify th...           88 Days   \n",
       "1  Robyn  [Verse 1:] Boy you gotta want me, really reall...    Ain't No Thing   \n",
       "2  Robyn  It's like you're waiting for me to start There...  Anytime You Like   \n",
       "3  Robyn  Here come the night In your eyes Baby, be brav...   Baby Forgive Me   \n",
       "4  Robyn  (So you wanna go out? How you gonna get there?...        Beach 2K20   \n",
       "\n",
       "                                      cleaned_lyrics  \n",
       "0  [light, candle, morning, signify, still, mind,...  \n",
       "1  [boy, gotta, want, me, really, really, want, b...  \n",
       "2  [like, waiting, start, theres, right, moment, ...  \n",
       "3  [come, night, eyes, baby, brave, wise, like, m...  \n",
       "4  [so, wanna, go, out, gonna, get, there, ok, ca...  "
      ]
     },
     "execution_count": 18,
     "metadata": {},
     "output_type": "execute_result"
    }
   ],
   "source": [
    "print(\"Length of 88 Days by Robyn before cleaning: \", len(lyrics['lyrics'][0]))\n",
    "print(\" \")\n",
    "print(\"Length of 88 Days by Robyn after cleaning: \", len(lyrics['cleaned_lyrics'][0]))\n",
    "lyrics.head()"
   ]
  },
  {
   "attachments": {},
   "cell_type": "markdown",
   "id": "5aa1d085",
   "metadata": {},
   "source": [
    "When cleaning the data, I made two choices in storing the data. \n",
    "\n",
    "1. I stored both descriptions and lyrics initially in a list of lists. That way if we are interested in particular songs or maybe we want to extract albums to evaluate lexicon, that could be done.\n",
    "\n",
    "2. Yet, doing so did not make it easy to use the descriptive statistics formula using the list of lists for each record. Instead, I also prepared a list of all words. One giant list. That was prepared just to use the descriptive statistics formula on. "
   ]
  },
  {
   "attachments": {},
   "cell_type": "markdown",
   "id": "f2dd0179",
   "metadata": {},
   "source": [
    "## Basic Descriptive Statistics\n",
    "\n",
    "Call your `descriptive_stats` function on both your lyrics data and your twitter data and for both artists (four total calls). "
   ]
  },
  {
   "attachments": {},
   "cell_type": "markdown",
   "id": "1560630c",
   "metadata": {},
   "source": [
    "### Lyrics"
   ]
  },
  {
   "cell_type": "code",
   "execution_count": 19,
   "id": "f0bbedd9",
   "metadata": {},
   "outputs": [
    {
     "name": "stdout",
     "output_type": "stream",
     "text": [
      "There are 14795 tokens in the data.\n",
      "There are 2190 unique tokens in the data.\n",
      "There are 71314 characters in the data.\n",
      "The lexical diversity is 0.148 in the data.\n",
      "The five most common words [('know', 305), ('love', 269), ('got', 249), ('like', 230), ('baby', 220)] in the data.\n"
     ]
    }
   ],
   "source": [
    "# calls to descriptive_stats here\n",
    "d = descriptive_stats(robyn_lyrics, verbose=True)"
   ]
  },
  {
   "cell_type": "code",
   "execution_count": 20,
   "id": "eb51c15f",
   "metadata": {},
   "outputs": [
    {
     "name": "stdout",
     "output_type": "stream",
     "text": [
      "There are 34396 tokens in the data.\n",
      "There are 3748 unique tokens in the data.\n",
      "There are 164843 characters in the data.\n",
      "The lexical diversity is 0.109 in the data.\n",
      "The five most common words [('love', 966), ('know', 480), ('baby', 315), ('time', 313), ('see', 308)] in the data.\n"
     ]
    }
   ],
   "source": [
    "d = descriptive_stats(cher_lyrics, verbose=True)"
   ]
  },
  {
   "cell_type": "code",
   "execution_count": 21,
   "id": "8858319f",
   "metadata": {},
   "outputs": [
    {
     "name": "stdout",
     "output_type": "stream",
     "text": [
      "There are 16133402 tokens in the data.\n",
      "There are 1698078 unique tokens in the data.\n",
      "There are 96099903 characters in the data.\n",
      "The lexical diversity is 0.105 in the data.\n",
      "The five most common words [('love', 214529), ('life', 122900), ('music', 88168), ('follow', 62576), ('lover', 60314)] in the data.\n"
     ]
    }
   ],
   "source": [
    "d = descriptive_stats(cwords, verbose=True)"
   ]
  },
  {
   "cell_type": "code",
   "execution_count": 22,
   "id": "da75cd9b",
   "metadata": {},
   "outputs": [
    {
     "name": "stdout",
     "output_type": "stream",
     "text": [
      "There are 1533133 tokens in the data.\n",
      "There are 271452 unique tokens in the data.\n",
      "There are 9388482 characters in the data.\n",
      "The lexical diversity is 0.177 in the data.\n",
      "The five most common words [('music', 15160), ('love', 11683), ('life', 7387), ('follow', 5602), ('like', 4946)] in the data.\n"
     ]
    }
   ],
   "source": [
    "d = descriptive_stats(rwords, verbose=True)"
   ]
  },
  {
   "attachments": {},
   "cell_type": "markdown",
   "id": "46294409",
   "metadata": {},
   "source": [
    "Q: How do you think the \"top 5 words\" would be different if we left stopwords in the data? \n",
    "\n",
    "A: The top 5 words would certainly be full of stop words given the amount of words that were removed during the cleaning process. \n",
    "\n",
    "---\n",
    "\n",
    "Q: What were your prior beliefs about the lexical diversity between the artists? Does the difference (or lack thereof) in lexical diversity between the artists conform to your prior beliefs? \n",
    "\n",
    "A: Having not listened to Robyn or Cher in any substantial way, I did not have prior beliefs of one artist being more lyrically intricate than another. I do think that them being very close to one another would be expected for most popular artists that are not known particularly for their lyrics, like perhaps a Bob Dylan or someone similar. To my limited knowledge neither Cher nor Robyn are reverred as lyricists in that way. \n",
    "\n",
    "One thing that would remain prevalent in most musician's lyrics is love and life. Unsurprisingly music is included in this top 5 as well."
   ]
  },
  {
   "attachments": {},
   "cell_type": "markdown",
   "id": "4d4e1ac1",
   "metadata": {},
   "source": [
    "\n",
    "## Specialty Statistics\n",
    "\n",
    "The descriptive statistics we have calculated are quite generic. You will now calculate a handful of statistics tailored to these data.\n",
    "\n",
    "1. Ten most common emojis by artist in the twitter descriptions.\n",
    "1. Ten most common hashtags by artist in the twitter descriptions.\n",
    "1. Five most common words in song titles by artist. \n",
    "1. For each artist, a histogram of song lengths (in terms of number of tokens) \n",
    "\n",
    "We can use the `emoji` library to help us identify emojis and you have been given a function to help you.\n"
   ]
  },
  {
   "cell_type": "code",
   "execution_count": 23,
   "id": "753a5a3e",
   "metadata": {},
   "outputs": [],
   "source": [
    "assert(emoji.is_emoji(\"❤️\"))\n",
    "assert(not emoji.is_emoji(\":-)\"))"
   ]
  },
  {
   "attachments": {},
   "cell_type": "markdown",
   "id": "986fc4c0",
   "metadata": {},
   "source": [
    "### Emojis 😁\n",
    "\n",
    "What are the ten most common emojis by artist in the twitter descriptions? \n"
   ]
  },
  {
   "cell_type": "code",
   "execution_count": 24,
   "id": "269cd433",
   "metadata": {},
   "outputs": [],
   "source": [
    "# Your code here\n",
    "\n",
    "# looping through the emojis to extract them from the strings\n",
    "# Then appending them to a string to contain all of the emojis\n",
    "cemojis = []\n",
    "for i in cwords:\n",
    "    for l in i:\n",
    "        if emoji.is_emoji(l) == True:\n",
    "            cemojis.append(l)\n",
    "\n",
    "remojis = []\n",
    "for i in rwords:\n",
    "    for l in i:\n",
    "        if emoji.is_emoji(l) == True:\n",
    "            remojis.append(l)\n",
    "   "
   ]
  },
  {
   "attachments": {},
   "cell_type": "markdown",
   "id": "efb4e676",
   "metadata": {},
   "source": [
    "#### Robyn Emojis"
   ]
  },
  {
   "cell_type": "code",
   "execution_count": 25,
   "id": "ba9efdaf",
   "metadata": {},
   "outputs": [
    {
     "data": {
      "text/plain": [
       "[('❤', 4808),\n",
       " ('🌈', 4702),\n",
       " ('🏳', 3539),\n",
       " ('♥', 3117),\n",
       " ('✨', 2240),\n",
       " ('🏻', 1498),\n",
       " ('✌', 1194),\n",
       " ('🏼', 1145),\n",
       " ('♀', 848),\n",
       " ('💙', 818)]"
      ]
     },
     "execution_count": 25,
     "metadata": {},
     "output_type": "execute_result"
    }
   ],
   "source": [
    "Counter(remojis).most_common(10)"
   ]
  },
  {
   "attachments": {},
   "cell_type": "markdown",
   "id": "d121087b",
   "metadata": {},
   "source": [
    "#### Cher Emojis"
   ]
  },
  {
   "cell_type": "code",
   "execution_count": 26,
   "id": "c8449cce",
   "metadata": {},
   "outputs": [
    {
     "data": {
      "text/plain": [
       "[('❤', 79373),\n",
       " ('🌈', 47795),\n",
       " ('♥', 34239),\n",
       " ('🏳', 33591),\n",
       " ('✨', 29715),\n",
       " ('💙', 21498),\n",
       " ('🏻', 20970),\n",
       " ('🌊', 20319),\n",
       " ('✌', 16876),\n",
       " ('💜', 16607)]"
      ]
     },
     "execution_count": 26,
     "metadata": {},
     "output_type": "execute_result"
    }
   ],
   "source": [
    "Counter(cemojis).most_common(10)"
   ]
  },
  {
   "attachments": {},
   "cell_type": "markdown",
   "id": "bab9b770",
   "metadata": {},
   "source": [
    "### Hashtags\n",
    "\n",
    "What are the ten most common hashtags by artist in the twitter descriptions? \n"
   ]
  },
  {
   "cell_type": "code",
   "execution_count": 27,
   "id": "07c396f1",
   "metadata": {},
   "outputs": [],
   "source": [
    "# Your code here\n",
    "chashtags = []\n",
    "rhashtags = []\n",
    "# Looping through each word in the descriptions \n",
    "for artist in twitter_desc:\n",
    "    for i in twitter_desc[artist]:\n",
    "        for w in i.split():\n",
    "            # if the first letter of the word is # AND if the lenghth of the word is greater than 1, append to the appropriate artist\n",
    "            if w[0] == '#':\n",
    "                if len(w) > 1:\n",
    "                    if artist == 'robyn':\n",
    "                        rhashtags.append(w)\n",
    "                    else:\n",
    "                        chashtags.append(w)\n",
    "\n",
    "            \n",
    "        \n",
    "        "
   ]
  },
  {
   "attachments": {},
   "cell_type": "markdown",
   "id": "d1114f3f",
   "metadata": {},
   "source": [
    "#### Robyn Hashtags"
   ]
  },
  {
   "cell_type": "code",
   "execution_count": 28,
   "id": "48f4cba7",
   "metadata": {},
   "outputs": [
    {
     "data": {
      "text/plain": [
       "[('#BlackLivesMatter', 311),\n",
       " ('#BLM', 274),\n",
       " ('#blacklivesmatter', 200),\n",
       " ('#1', 187),\n",
       " ('#music', 150),\n",
       " ('#Music', 93),\n",
       " ('#EDM', 79),\n",
       " ('#blm', 51),\n",
       " ('#TeamFollowBack', 51),\n",
       " ('#LGBTQ', 45)]"
      ]
     },
     "execution_count": 28,
     "metadata": {},
     "output_type": "execute_result"
    }
   ],
   "source": [
    "Counter(rhashtags).most_common(10)"
   ]
  },
  {
   "attachments": {},
   "cell_type": "markdown",
   "id": "fd0b6b5e",
   "metadata": {},
   "source": [
    "#### Cher Hashtags"
   ]
  },
  {
   "cell_type": "code",
   "execution_count": 29,
   "id": "21f5ec6a",
   "metadata": {},
   "outputs": [
    {
     "data": {
      "text/plain": [
       "[('#BLM', 7917),\n",
       " ('#Resist', 5003),\n",
       " ('#BlackLivesMatter', 4221),\n",
       " ('#resist', 3129),\n",
       " ('#FBR', 2765),\n",
       " ('#blacklivesmatter', 2464),\n",
       " ('#TheResistance', 2457),\n",
       " ('#1', 2228),\n",
       " ('#Resistance', 1514),\n",
       " ('#RESIST', 1415)]"
      ]
     },
     "execution_count": 29,
     "metadata": {},
     "output_type": "execute_result"
    }
   ],
   "source": [
    "Counter(chashtags).most_common(10)"
   ]
  },
  {
   "attachments": {},
   "cell_type": "markdown",
   "id": "83c1a8c2",
   "metadata": {},
   "source": [
    "#### Comments\n",
    "\n",
    "One take away is that the fanbases of both artists are very politically active."
   ]
  },
  {
   "attachments": {},
   "cell_type": "markdown",
   "id": "d10f21d5",
   "metadata": {},
   "source": [
    "### Song Titles\n",
    "\n",
    "What are the five most common words in song titles by artist? The song titles should be on the first line of the lyrics pages, so if you have kept the raw file contents around, you will not need to re-read the data.\n"
   ]
  },
  {
   "cell_type": "code",
   "execution_count": 30,
   "id": "7a5700d1",
   "metadata": {},
   "outputs": [],
   "source": [
    "# Cleaning Title first to remove stop words\n",
    "cher_cleaned_titles = []\n",
    "cher_stop_titles = []\n",
    "robyn_cleaned_titles = []\n",
    "robyn_stop_titles = []\n",
    "df_counter = 0\n",
    "\n",
    "# list to store splits before searching stopwordss\n",
    "splitt = []\n",
    "\n",
    "# loop through lyric values\n",
    "for i in lyrics['titles']:\n",
    "    \n",
    "    # append lyrics without punctuation or capitalization that have also been split\n",
    "    splitt.append(i.casefold().split())\n",
    "\n",
    "# loop through the split lists\n",
    "for i in splitt:\n",
    "    df_counter += 1\n",
    "\n",
    "    # loop through the splits lists words\n",
    "    for w in i:\n",
    "\n",
    "        if lyrics['artist'].loc[df_counter-1] == 'Robyn':\n",
    "            robyn_stop_titles.append(w.translate(str.maketrans('', '', punctuation)))\n",
    "        else:\n",
    "            cher_stop_titles.append(w.translate(str.maketrans('', '', punctuation)))\n",
    "        \n",
    "        # keep if not in stopwords set\n",
    "        if w not in sw:  \n",
    "                    # append to list\n",
    "                    if lyrics['artist'].loc[df_counter-1] == 'Robyn':\n",
    "                        robyn_cleaned_titles.append(w.translate(str.maketrans('', '', punctuation)))\n",
    "                    else:\n",
    "                        cher_cleaned_titles.append(w.translate(str.maketrans('', '', punctuation)))\n",
    "\n",
    "\n"
   ]
  },
  {
   "cell_type": "code",
   "execution_count": 31,
   "id": "bb69b36b",
   "metadata": {},
   "outputs": [
    {
     "name": "stdout",
     "output_type": "stream",
     "text": [
      "Cher most popular words without stop words in title:  [('love', 38), ('man', 12), ('song', 11), ('come', 7), ('one', 7)]\n",
      "Cher most popular words with stop words in title:  [('the', 54), ('you', 41), ('love', 38), ('i', 32), ('to', 28)]\n"
     ]
    }
   ],
   "source": [
    "# Your code here\n",
    "print(\"Cher most popular words without stop words in title: \", Counter(cher_cleaned_titles).most_common(5))\n",
    "print(\"Cher most popular words with stop words in title: \", Counter(cher_stop_titles).most_common(5))"
   ]
  },
  {
   "cell_type": "code",
   "execution_count": 32,
   "id": "b3b2ba0f",
   "metadata": {},
   "outputs": [
    {
     "name": "stdout",
     "output_type": "stream",
     "text": [
      "Robyn most popular words without stop words in title:  [('love', 6), ('u', 4), ('thing', 3), ('girl', 3), ('tell', 3)]\n",
      "Robyn most popular words with stop words in title:  [('me', 11), ('you', 8), ('the', 8), ('my', 8), ('to', 6)]\n"
     ]
    }
   ],
   "source": [
    "print(\"Robyn most popular words without stop words in title: \", Counter(robyn_cleaned_titles).most_common(5))\n",
    "print(\"Robyn most popular words with stop words in title: \", Counter(robyn_stop_titles).most_common(5))"
   ]
  },
  {
   "attachments": {},
   "cell_type": "markdown",
   "id": "5dd4fd71",
   "metadata": {},
   "source": [
    "### Song Lengths\n",
    "\n",
    "For each artist, a histogram of song lengths (in terms of number of tokens). If you put the song lengths in a data frame with an artist column, matplotlib will make the plotting quite easy. An example is given to help you out. \n"
   ]
  },
  {
   "cell_type": "code",
   "execution_count": 33,
   "id": "805a1e52",
   "metadata": {},
   "outputs": [
    {
     "data": {
      "image/png": "[encoded data removed]",
      "text/plain": [
       "<Figure size 432x288 with 1 Axes>"
      ]
     },
     "metadata": {
      "needs_background": "light"
     },
     "output_type": "display_data"
    }
   ],
   "source": [
    "num_replicates = 1000\n",
    "\n",
    "df = pd.DataFrame({\n",
    "    \"artist\" : ['Artist 1'] * num_replicates + ['Artist 2']*num_replicates,\n",
    "    \"length\" : np.concatenate((np.random.poisson(125,num_replicates),np.random.poisson(150,num_replicates)))\n",
    "})\n",
    "\n",
    "df.groupby('artist')['length'].plot(kind=\"hist\",density=True,alpha=0.5,legend=True)\n",
    "plt.show()"
   ]
  },
  {
   "attachments": {},
   "cell_type": "markdown",
   "id": "8fde9ebb",
   "metadata": {},
   "source": [
    "Since the lyrics may be stored with carriage returns or tabs, it may be useful to have a function that can collapse whitespace, using regular expressions, and be used for splitting. \n",
    "\n",
    "Q: What does the regular expression `'\\s+'` match on? \n",
    "\n",
    "A: \\s matches any whitespace character while + is telling the regex code to act greedy, meaning it will grab as much whitespace as is there rather than 1 or the first or the last, for example. \n"
   ]
  },
  {
   "cell_type": "code",
   "execution_count": 34,
   "id": "f0e34516",
   "metadata": {},
   "outputs": [],
   "source": [
    "collapse_whitespace = re.compile(r'\\s+')\n",
    "\n",
    "def tokenize_lyrics(lyric) : \n",
    "    \"\"\"strip and split on whitespace\"\"\"\n",
    "    return([item.lower() for item in collapse_whitespace.split(lyric)])"
   ]
  },
  {
   "cell_type": "code",
   "execution_count": 35,
   "id": "2294c440",
   "metadata": {},
   "outputs": [],
   "source": [
    "# Your lyric length comparison chart here. \n",
    "\n",
    "# for length list\n",
    "lenlyric = []\n",
    "\n",
    "for i in lyrics['lyrics']:\n",
    "    # removing non lyrics that are placeholders\n",
    "    i = i.replace('[Verse 1:]', '').replace('[Verse 2:]', '').replace('[Verse 3:]', '').replace('[Verse 4:]', '').replace('[Verse 5:]', '').replace('(', '').replace(')', '')\n",
    "\n",
    "    # using the tokenizer to remove space\n",
    "    lyr = tokenize_lyrics(i)\n",
    "\n",
    "    # remove the empty segments in the list\n",
    "    lyr = [x for x in lyr if x !='']\n",
    "\n",
    "    # append length to the list\n",
    "    lenlyric.append(len(lyr))\n",
    "\n",
    "# adding it to our dataframe lyrics\n",
    "lyrics['len_lyrics'] = lenlyric"
   ]
  },
  {
   "cell_type": "code",
   "execution_count": 36,
   "id": "82d1fdd5",
   "metadata": {},
   "outputs": [
    {
     "data": {
      "image/png": "[encoded data removed]",
      "text/plain": [
       "<Figure size 432x288 with 1 Axes>"
      ]
     },
     "metadata": {
      "needs_background": "light"
     },
     "output_type": "display_data"
    }
   ],
   "source": [
    "lyrics.groupby('artist')['len_lyrics'].plot(kind=\"hist\",density=True,alpha=0.5,legend=True)\n",
    "plt.title(\"Robyn & Cher Lyric Length Distributions\")\n",
    "plt.xlabel(\"Lyric Word Length\")\n",
    "plt.show()"
   ]
  },
  {
   "attachments": {},
   "cell_type": "markdown",
   "id": "5cab3310",
   "metadata": {},
   "source": [
    "As Shown above Robyn overall does have longer songs and more spread out lengths. This may be due to Cher being more pure pop song, for sale writing while Robyn maintained being a little more experimental at least with song word length if nothing else. "
   ]
  }
 ],
 "metadata": {
  "kernelspec": {
   "display_name": "Python 3 (ipykernel)",
   "language": "python",
   "name": "python3"
  },
  "language_info": {
   "codemirror_mode": {
    "name": "ipython",
    "version": 3
   },
   "file_extension": ".py",
   "mimetype": "text/x-python",
   "name": "python",
   "nbconvert_exporter": "python",
   "pygments_lexer": "ipython3",
   "version": "3.9.7"
  }
 },
 "nbformat": 4,
 "nbformat_minor": 5
}
